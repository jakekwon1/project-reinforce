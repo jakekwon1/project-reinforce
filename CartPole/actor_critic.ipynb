{
 "cells": [
  {
   "attachments": {},
   "cell_type": "markdown",
   "metadata": {
    "id": "_jQ1tEQCxwRx"
   },
   "source": [
    "##### Copyright 2020 The TensorFlow Authors."
   ]
  },
  {
   "cell_type": "code",
   "execution_count": 4,
   "metadata": {
    "cellView": "form",
    "execution": {
     "iopub.execute_input": "2022-12-20T03:07:33.297683Z",
     "iopub.status.busy": "2022-12-20T03:07:33.297121Z",
     "iopub.status.idle": "2022-12-20T03:07:33.301766Z",
     "shell.execute_reply": "2022-12-20T03:07:33.300924Z"
    },
    "id": "V_sgB_5dx1f1"
   },
   "outputs": [],
   "source": [
    "#@title Licensed under the Apache License, Version 2.0 (the \"License\");\n",
    "# you may not use this file except in compliance with the License.\n",
    "# You may obtain a copy of the License at\n",
    "#\n",
    "# https://www.apache.org/licenses/LICENSE-2.0\n",
    "#\n",
    "# Unless required by applicable law or agreed to in writing, software\n",
    "# distributed under the License is distributed on an \"AS IS\" BASIS,\n",
    "# WITHOUT WARRANTIES OR CONDITIONS OF ANY KIND, either express or implied.\n",
    "# See the License for the specific language governing permissions and\n",
    "# limitations under the License."
   ]
  },
  {
   "attachments": {},
   "cell_type": "markdown",
   "metadata": {
    "id": "p62G8M_viUJp"
   },
   "source": [
    "# Playing CartPole with the Actor-Critic method\n"
   ]
  },
  {
   "attachments": {},
   "cell_type": "markdown",
   "metadata": {
    "id": "-mJ2i6jvZ3sK"
   },
   "source": [
    "<table class=\"tfo-notebook-buttons\" align=\"left\">\n",
    "  <td>\n",
    "    <a target=\"_blank\" href=\"https://www.tensorflow.org/tutorials/reinforcement_learning/actor_critic\">\n",
    "    <img src=\"https://www.tensorflow.org/images/tf_logo_32px.png\" />\n",
    "    View on TensorFlow.org</a>\n",
    "  </td>\n",
    "  <td>\n",
    "    <a target=\"_blank\" href=\"https://colab.research.google.com/github/tensorflow/docs/blob/master/site/en/tutorials/reinforcement_learning/actor_critic.ipynb\">\n",
    "    <img src=\"https://www.tensorflow.org/images/colab_logo_32px.png\" />\n",
    "    Run in Google Colab</a>\n",
    "  </td>\n",
    "  <td>\n",
    "    <a target=\"_blank\" href=\"https://github.com/tensorflow/docs/blob/master/site/en/tutorials/reinforcement_learning/actor_critic.ipynb\">\n",
    "    <img src=\"https://www.tensorflow.org/images/GitHub-Mark-32px.png\" />\n",
    "    View source on GitHub</a>\n",
    "  </td>\n",
    "  <td>\n",
    "    <a href=\"https://storage.googleapis.com/tensorflow_docs/docs/site/en/tutorials/reinforcement_learning/actor_critic.ipynb\"><img src=\"https://www.tensorflow.org/images/download_logo_32px.png\" />Download notebook</a>\n",
    "  </td>\n",
    "</table>"
   ]
  },
  {
   "attachments": {},
   "cell_type": "markdown",
   "metadata": {
    "id": "kFgN7h_wiUJq"
   },
   "source": [
    "This tutorial demonstrates how to implement the [Actor-Critic](https://papers.nips.cc/paper/1786-actor-critic-algorithms.pdf) method using TensorFlow to train an agent on the [Open AI Gym](https://www.gymlibrary.dev/) [`CartPole-v0`](https://www.gymlibrary.dev/environments/classic_control/cart_pole/) environment.\n",
    "The reader is assumed to have some familiarity with [policy gradient methods](https://papers.nips.cc/paper/1713-policy-gradient-methods-for-reinforcement-learning-with-function-approximation.pdf) of [(deep) reinforcement learning](https://en.wikipedia.org/wiki/Deep_reinforcement_learning). \n"
   ]
  },
  {
   "attachments": {},
   "cell_type": "markdown",
   "metadata": {
    "id": "_kA10ZKRR0hi"
   },
   "source": [
    "**Actor-Critic methods**\n",
    "\n",
    "Actor-Critic methods are [temporal difference (TD) learning](https://en.wikipedia.org/wiki/Temporal_difference_learning) methods that represent the policy function independent of the value function.\n",
    "\n",
    "A policy function (or policy) returns a probability distribution over actions that the agent can take based on the given state.\n",
    "A value function determines the expected return for an agent starting at a given state and acting according to a particular policy forever after.\n",
    "\n",
    "In the Actor-Critic method, the policy is referred to as the *actor* that proposes a set of possible actions given a state, and the estimated value function is referred to as the *critic*, which evaluates actions taken by the *actor* based on the given policy.\n",
    "\n",
    "In this tutorial, both the *Actor* and *Critic* will be represented using one neural network with two outputs.\n"
   ]
  },
  {
   "attachments": {},
   "cell_type": "markdown",
   "metadata": {
    "id": "rBfiafKSRs2k"
   },
   "source": [
    "**`CartPole-v0`**\n",
    "\n",
    "In the [`CartPole-v0` environment](https://www.gymlibrary.dev/environments/classic_control/cart_pole/), a pole is attached to a cart moving along a frictionless track.\n",
    "The pole starts upright and the goal of the agent is to prevent it from falling over by applying a force of `-1` or `+1` to the cart.\n",
    "A reward of `+1` is given for every time step the pole remains upright.\n",
    "An episode ends when: 1) the pole is more than 15 degrees from vertical; or 2) the cart moves more than 2.4 units from the center.\n",
    "\n",
    "<center>\n",
    "  <figure>\n",
    "    <image src=\"https://tensorflow.org/tutorials/reinforcement_learning/images/cartpole-v0.gif\">\n",
    "    <figcaption>\n",
    "      Trained actor-critic model in Cartpole-v0 environment\n",
    "    </figcaption>\n",
    "  </figure>\n",
    "</center>\n"
   ]
  },
  {
   "attachments": {},
   "cell_type": "markdown",
   "metadata": {
    "id": "XSNVK0AeRoJd"
   },
   "source": [
    "The problem is considered \"solved\" when the average total reward for the episode reaches 195 over 100 consecutive trials."
   ]
  },
  {
   "attachments": {},
   "cell_type": "markdown",
   "metadata": {
    "id": "glLwIctHiUJq"
   },
   "source": [
    "## Setup\n",
    "\n",
    "Import necessary packages and configure global settings.\n"
   ]
  },
  {
   "cell_type": "code",
   "execution_count": 5,
   "metadata": {
    "execution": {
     "iopub.execute_input": "2022-12-20T03:07:33.306405Z",
     "iopub.status.busy": "2022-12-20T03:07:33.306111Z",
     "iopub.status.idle": "2022-12-20T03:07:44.730859Z",
     "shell.execute_reply": "2022-12-20T03:07:44.729822Z"
    },
    "id": "13l6BbxKhCKp"
   },
   "outputs": [],
   "source": [
    "# !pip install gym[classic_control]\n",
    "# !pip install pyglet\n",
    "# !pip install tqdm\n",
    "\n",
    "# !pip install tensorflow\n"
   ]
  },
  {
   "cell_type": "code",
   "execution_count": 6,
   "metadata": {
    "execution": {
     "iopub.execute_input": "2022-12-20T03:08:02.194743Z",
     "iopub.status.busy": "2022-12-20T03:08:02.194455Z",
     "iopub.status.idle": "2022-12-20T03:08:05.034718Z",
     "shell.execute_reply": "2022-12-20T03:08:05.033658Z"
    },
    "id": "tT4N3qYviUJr"
   },
   "outputs": [],
   "source": [
    "import collections\n",
    "import gym\n",
    "import numpy as np\n",
    "import statistics\n",
    "import tensorflow as tf\n",
    "import tqdm\n",
    "\n",
    "from matplotlib import pyplot as plt\n",
    "from tensorflow.keras import layers\n",
    "from typing import Any, List, Sequence, Tuple\n",
    "\n",
    "\n",
    "# Create the environment\n",
    "env = gym.make(\"CartPole-v1\")\n",
    "\n",
    "# Set seed for experiment reproducibility\n",
    "seed = 42\n",
    "tf.random.set_seed(seed)\n",
    "np.random.seed(seed)\n",
    "\n",
    "# Small epsilon value for stabilizing division operations\n",
    "eps = np.finfo(np.float32).eps.item()"
   ]
  },
  {
   "attachments": {},
   "cell_type": "markdown",
   "metadata": {
    "id": "AOUCe2D0iUJu"
   },
   "source": [
    "## The model\n",
    "\n",
    "The *Actor* and *Critic* will be modeled using one neural network that generates the action probabilities and Critic value respectively. This tutorial uses model subclassing to define the model. \n",
    "\n",
    "During the forward pass, the model will take in the state as the input and will output both action probabilities and critic value $V$, which models the state-dependent [value function](https://spinningup.openai.com/en/latest/spinningup/rl_intro.html#value-functions). The goal is to train a model that chooses actions based on a policy $\\pi$ that maximizes expected [return](https://spinningup.openai.com/en/latest/spinningup/rl_intro.html#reward-and-return).\n",
    "\n",
    "For `CartPole-v0`, there are four values representing the state: cart position, cart-velocity, pole angle and pole velocity respectively. The agent can take two actions to push the cart left (`0`) and right (`1`), respectively.\n",
    "\n",
    "Refer to [Gym's Cart Pole documentation page](https://www.gymlibrary.dev/environments/classic_control/cart_pole/) and [_Neuronlike adaptive elements that can solve difficult learning control problems_](http://www.derongliu.org/adp/adp-cdrom/Barto1983.pdf) by Barto, Sutton and Anderson (1983) for more information.\n"
   ]
  },
  {
   "cell_type": "code",
   "execution_count": 7,
   "metadata": {
    "execution": {
     "iopub.execute_input": "2022-12-20T03:08:05.039401Z",
     "iopub.status.busy": "2022-12-20T03:08:05.038987Z",
     "iopub.status.idle": "2022-12-20T03:08:05.046252Z",
     "shell.execute_reply": "2022-12-20T03:08:05.045256Z"
    },
    "id": "aXKbbMC-kmuv"
   },
   "outputs": [],
   "source": [
    "class ActorCritic(tf.keras.Model):\n",
    "  \"\"\"Combined actor-critic network.\"\"\"\n",
    "\n",
    "  def __init__(\n",
    "      self, \n",
    "      num_actions: int, \n",
    "      num_hidden_units: int):\n",
    "    \"\"\"Initialize.\"\"\"\n",
    "    super().__init__()\n",
    "\n",
    "    self.common = layers.Dense(num_hidden_units, activation=\"relu\")\n",
    "    self.actor = layers.Dense(num_actions)\n",
    "    self.critic = layers.Dense(1)\n",
    "\n",
    "  def call(self, inputs: tf.Tensor) -> Tuple[tf.Tensor, tf.Tensor]:\n",
    "    x = self.common(inputs)\n",
    "    return self.actor(x), self.critic(x)"
   ]
  },
  {
   "cell_type": "code",
   "execution_count": 8,
   "metadata": {
    "execution": {
     "iopub.execute_input": "2022-12-20T03:08:05.049845Z",
     "iopub.status.busy": "2022-12-20T03:08:05.049350Z",
     "iopub.status.idle": "2022-12-20T03:08:09.219783Z",
     "shell.execute_reply": "2022-12-20T03:08:09.218811Z"
    },
    "id": "nWyxJgjLn68c"
   },
   "outputs": [],
   "source": [
    "num_actions = env.action_space.n  # 2\n",
    "num_hidden_units = 128\n",
    "\n",
    "model = ActorCritic(num_actions, num_hidden_units)"
   ]
  },
  {
   "attachments": {},
   "cell_type": "markdown",
   "metadata": {
    "id": "hk92njFziUJw"
   },
   "source": [
    "## Train the agent\n",
    "\n",
    "To train the agent, you will follow these steps:\n",
    "\n",
    "1. Run the agent on the environment to collect training data per episode.\n",
    "2. Compute expected return at each time step.\n",
    "3. Compute the loss for the combined Actor-Critic model.\n",
    "4. Compute gradients and update network parameters.\n",
    "5. Repeat 1-4 until either success criterion or max episodes has been reached.\n"
   ]
  },
  {
   "attachments": {},
   "cell_type": "markdown",
   "metadata": {
    "id": "R2nde2XDs8Gh"
   },
   "source": [
    "### 1. Collect training data\n",
    "\n",
    "As in supervised learning, in order to train the actor-critic model, you need\n",
    "to have training data. However, in order to collect such data, the model would\n",
    "need to be \"run\" in the environment.\n",
    "\n",
    "Training data is collected for each episode. Then at each time step, the model's forward pass will be run on the environment's state in order to generate action probabilities and the critic value based on the current policy parameterized by the model's weights.\n",
    "\n",
    "The next action will be sampled from the action probabilities generated by the model, which would then be applied to the environment, causing the next state and reward to be generated.\n",
    "\n",
    "This process is implemented in the `run_episode` function, which uses TensorFlow operations so that it can later be compiled into a TensorFlow graph for faster training. Note that `tf.TensorArray`s were used to support Tensor iteration on variable length arrays."
   ]
  },
  {
   "cell_type": "code",
   "execution_count": 9,
   "metadata": {
    "execution": {
     "iopub.execute_input": "2022-12-20T03:08:09.225007Z",
     "iopub.status.busy": "2022-12-20T03:08:09.224713Z",
     "iopub.status.idle": "2022-12-20T03:08:09.230866Z",
     "shell.execute_reply": "2022-12-20T03:08:09.230023Z"
    },
    "id": "5URrbGlDSAGx"
   },
   "outputs": [],
   "source": [
    "# Wrap Gym's `env.step` call as an operation in a TensorFlow function.\n",
    "# This would allow it to be included in a callable TensorFlow graph.\n",
    "\n",
    "def env_step(action: np.ndarray) -> Tuple[np.ndarray, np.ndarray, np.ndarray]:\n",
    "  \"\"\"Returns state, reward and done flag given an action.\"\"\"\n",
    "\n",
    "  state, reward, done, truncated, info = env.step(action)\n",
    "  return (state.astype(np.float32), \n",
    "          np.array(reward, np.int32), \n",
    "          np.array(done, np.int32))\n",
    "\n",
    "\n",
    "def tf_env_step(action: tf.Tensor) -> List[tf.Tensor]:\n",
    "  return tf.numpy_function(env_step, [action], \n",
    "                           [tf.float32, tf.int32, tf.int32])"
   ]
  },
  {
   "cell_type": "code",
   "execution_count": 10,
   "metadata": {
    "execution": {
     "iopub.execute_input": "2022-12-20T03:08:09.234550Z",
     "iopub.status.busy": "2022-12-20T03:08:09.234291Z",
     "iopub.status.idle": "2022-12-20T03:08:09.242166Z",
     "shell.execute_reply": "2022-12-20T03:08:09.241389Z"
    },
    "id": "a4qVRV063Cl9"
   },
   "outputs": [],
   "source": [
    "def run_episode(\n",
    "    initial_state: tf.Tensor,  \n",
    "    model: tf.keras.Model, \n",
    "    max_steps: int) -> Tuple[tf.Tensor, tf.Tensor, tf.Tensor]:\n",
    "  \"\"\"Runs a single episode to collect training data.\"\"\"\n",
    "\n",
    "  action_probs = tf.TensorArray(dtype=tf.float32, size=0, dynamic_size=True)\n",
    "  values = tf.TensorArray(dtype=tf.float32, size=0, dynamic_size=True)\n",
    "  rewards = tf.TensorArray(dtype=tf.int32, size=0, dynamic_size=True)\n",
    "\n",
    "  initial_state_shape = initial_state.shape\n",
    "  state = initial_state\n",
    "\n",
    "  for t in tf.range(max_steps):\n",
    "    # Convert state into a batched tensor (batch size = 1)\n",
    "    state = tf.expand_dims(state, 0)\n",
    "  \n",
    "    # Run the model and to get action probabilities and critic value\n",
    "    action_logits_t, value = model(state)\n",
    "  \n",
    "    # Sample next action from the action probability distribution\n",
    "    action = tf.random.categorical(action_logits_t, 1)[0, 0]\n",
    "    action_probs_t = tf.nn.softmax(action_logits_t)\n",
    "\n",
    "    # Store critic values\n",
    "    values = values.write(t, tf.squeeze(value))\n",
    "\n",
    "    # Store log probability of the action chosen\n",
    "    action_probs = action_probs.write(t, action_probs_t[0, action])\n",
    "  \n",
    "    # Apply action to the environment to get next state and reward\n",
    "    state, reward, done = tf_env_step(action)\n",
    "    state.set_shape(initial_state_shape)\n",
    "  \n",
    "    # Store reward\n",
    "    rewards = rewards.write(t, reward)\n",
    "\n",
    "    if tf.cast(done, tf.bool):\n",
    "      break\n",
    "\n",
    "  action_probs = action_probs.stack()\n",
    "  values = values.stack()\n",
    "  rewards = rewards.stack()\n",
    "  \n",
    "  return action_probs, values, rewards"
   ]
  },
  {
   "attachments": {},
   "cell_type": "markdown",
   "metadata": {
    "id": "lBnIHdz22dIx"
   },
   "source": [
    "### 2. Compute the expected returns\n",
    "\n",
    "The sequence of rewards for each timestep $t$, $\\{r_{t}\\}^{T}_{t=1}$ collected during one episode is converted into a sequence of expected returns $\\{G_{t}\\}^{T}_{t=1}$ in which the sum of rewards is taken from the current timestep $t$ to $T$ and each reward is multiplied with an exponentially decaying discount factor $\\gamma$:\n",
    "\n",
    "$$G_{t} = \\sum^{T}_{t'=t} \\gamma^{t'-t}r_{t'}$$\n",
    "\n",
    "Since $\\gamma\\in(0,1)$, rewards further out from the current timestep are given less weight.\n",
    "\n",
    "Intuitively, expected return simply implies that rewards now are better than rewards later. In a mathematical sense, it is to ensure that the sum of the rewards converges.\n",
    "\n",
    "To stabilize training, the resulting sequence of returns is also standardized (i.e. to have zero mean and unit standard deviation).\n"
   ]
  },
  {
   "cell_type": "code",
   "execution_count": 11,
   "metadata": {
    "execution": {
     "iopub.execute_input": "2022-12-20T03:08:09.245767Z",
     "iopub.status.busy": "2022-12-20T03:08:09.245281Z",
     "iopub.status.idle": "2022-12-20T03:08:09.251421Z",
     "shell.execute_reply": "2022-12-20T03:08:09.250653Z"
    },
    "id": "jpEwFyl315dl"
   },
   "outputs": [],
   "source": [
    "def get_expected_return(\n",
    "    rewards: tf.Tensor, \n",
    "    gamma: float, \n",
    "    standardize: bool = True) -> tf.Tensor:\n",
    "  \"\"\"Compute expected returns per timestep.\"\"\"\n",
    "\n",
    "  n = tf.shape(rewards)[0]\n",
    "  returns = tf.TensorArray(dtype=tf.float32, size=n)\n",
    "\n",
    "  # Start from the end of `rewards` and accumulate reward sums\n",
    "  # into the `returns` array\n",
    "  rewards = tf.cast(rewards[::-1], dtype=tf.float32)\n",
    "  discounted_sum = tf.constant(0.0)\n",
    "  discounted_sum_shape = discounted_sum.shape\n",
    "  for i in tf.range(n):\n",
    "    reward = rewards[i]\n",
    "    discounted_sum = reward + gamma * discounted_sum\n",
    "    discounted_sum.set_shape(discounted_sum_shape)\n",
    "    returns = returns.write(i, discounted_sum)\n",
    "  returns = returns.stack()[::-1]\n",
    "\n",
    "  if standardize:\n",
    "    returns = ((returns - tf.math.reduce_mean(returns)) / \n",
    "               (tf.math.reduce_std(returns) + eps))\n",
    "\n",
    "  return returns"
   ]
  },
  {
   "attachments": {},
   "cell_type": "markdown",
   "metadata": {
    "id": "qhr50_Czxazw"
   },
   "source": [
    "### 3. The Actor-Critic loss\n",
    "\n",
    "Since you're using a hybrid Actor-Critic model, the chosen loss function is a combination of Actor and Critic losses for training, as shown below:\n",
    "\n",
    "$$L = L_{actor} + L_{critic}$$"
   ]
  },
  {
   "attachments": {},
   "cell_type": "markdown",
   "metadata": {
    "id": "nOQIJuG1xdTH"
   },
   "source": [
    "#### The Actor loss\n",
    "\n",
    "The Actor loss is based on [policy gradients with the Critic as a state dependent baseline](https://www.youtube.com/watch?v=EKqxumCuAAY&t=62m23s) and computed with single-sample (per-episode) estimates.\n",
    "\n",
    "$$L_{actor} = -\\sum^{T}_{t=1} \\log\\pi_{\\theta}(a_{t} | s_{t})[G(s_{t}, a_{t})  - V^{\\pi}_{\\theta}(s_{t})]$$\n",
    "\n",
    "where:\n",
    "- $T$: the number of timesteps per episode, which can vary per episode\n",
    "- $s_{t}$: the state at timestep $t$\n",
    "- $a_{t}$: chosen action at timestep $t$ given state $s$\n",
    "- $\\pi_{\\theta}$: is the policy (Actor) parameterized by $\\theta$\n",
    "- $V^{\\pi}_{\\theta}$: is the value function (Critic) also parameterized by $\\theta$\n",
    "- $G = G_{t}$: the expected return for a given state, action pair at timestep $t$\n",
    "\n",
    "A negative term is added to the sum since the idea is to maximize the probabilities of actions yielding higher rewards by minimizing the combined loss.\n",
    "\n",
    "<br>"
   ]
  },
  {
   "attachments": {},
   "cell_type": "markdown",
   "metadata": {
    "id": "Y304O4OAxiAv"
   },
   "source": [
    "##### The Advantage\n",
    "\n",
    "The $G - V$ term in our $L_{actor}$ formulation is called the [Advantage](https://spinningup.openai.com/en/latest/spinningup/rl_intro.html#advantage-functions), which indicates how much better an action is given a particular state over a random action selected according to the policy $\\pi$ for that state.\n",
    "\n",
    "While it's possible to exclude a baseline, this may result in high variance during training. And the nice thing about choosing the critic $V$ as a baseline is that it trained to be as close as possible to $G$, leading to a lower variance.\n",
    "\n",
    "In addition, without the Critic, the algorithm would try to increase probabilities for actions taken on a particular state based on expected return, which may not make much of a difference if the relative probabilities between actions remain the same.\n",
    "\n",
    "For instance, suppose that two actions for a given state would yield the same expected return. Without the Critic, the algorithm would try to raise the probability of these actions based on the objective $J$. With the Critic, it may turn out that there's no Advantage ($G - V = 0$), and thus no benefit gained in increasing the actions' probabilities and the algorithm would set the gradients to zero.\n",
    "\n",
    "<br>"
   ]
  },
  {
   "attachments": {},
   "cell_type": "markdown",
   "metadata": {
    "id": "1hrPLrgGxlvb"
   },
   "source": [
    "#### The Critic loss\n",
    "\n",
    "Training $V$ to be as close possible to $G$ can be set up as a regression problem with the following loss function:\n",
    "\n",
    "$$L_{critic} = L_{\\delta}(G, V^{\\pi}_{\\theta})$$\n",
    "\n",
    "where $L_{\\delta}$ is the [Huber loss](https://en.wikipedia.org/wiki/Huber_loss), which is less sensitive to outliers in data than squared-error loss.\n"
   ]
  },
  {
   "cell_type": "code",
   "execution_count": 12,
   "metadata": {
    "execution": {
     "iopub.execute_input": "2022-12-20T03:08:09.255552Z",
     "iopub.status.busy": "2022-12-20T03:08:09.255307Z",
     "iopub.status.idle": "2022-12-20T03:08:09.260218Z",
     "shell.execute_reply": "2022-12-20T03:08:09.259448Z"
    },
    "id": "9EXwbEez6n9m"
   },
   "outputs": [],
   "source": [
    "huber_loss = tf.keras.losses.Huber(reduction=tf.keras.losses.Reduction.SUM)\n",
    "\n",
    "def compute_loss(\n",
    "    action_probs: tf.Tensor,  \n",
    "    values: tf.Tensor,  \n",
    "    returns: tf.Tensor) -> tf.Tensor:\n",
    "  \"\"\"Computes the combined Actor-Critic loss.\"\"\"\n",
    "\n",
    "  advantage = returns - values\n",
    "\n",
    "  action_log_probs = tf.math.log(action_probs)\n",
    "  actor_loss = -tf.math.reduce_sum(action_log_probs * advantage)\n",
    "\n",
    "  critic_loss = huber_loss(values, returns)\n",
    "\n",
    "  return actor_loss + critic_loss"
   ]
  },
  {
   "attachments": {},
   "cell_type": "markdown",
   "metadata": {
    "id": "HSYkQOmRfV75"
   },
   "source": [
    "### 4. Define the training step to update parameters\n",
    "\n",
    "All of the steps above are combined into a training step that is run every episode. All steps leading up to the loss function are executed with the `tf.GradientTape` context to enable automatic differentiation.\n",
    "\n",
    "This tutorial uses the Adam optimizer to apply the gradients to the model parameters.\n",
    "\n",
    "The sum of the undiscounted rewards, `episode_reward`, is also computed in this step. This value will be used later on to evaluate if the success criterion is met.\n",
    "\n",
    "The `tf.function` context is applied to the `train_step` function so that it can be compiled into a callable TensorFlow graph, which can lead to 10x speedup in training.\n"
   ]
  },
  {
   "cell_type": "code",
   "execution_count": 13,
   "metadata": {
    "execution": {
     "iopub.execute_input": "2022-12-20T03:08:09.263994Z",
     "iopub.status.busy": "2022-12-20T03:08:09.263757Z",
     "iopub.status.idle": "2022-12-20T03:08:09.274819Z",
     "shell.execute_reply": "2022-12-20T03:08:09.274101Z"
    },
    "id": "QoccrkF3IFCg"
   },
   "outputs": [],
   "source": [
    "optimizer = tf.keras.optimizers.Adam(learning_rate=0.01)\n",
    "\n",
    "\n",
    "@tf.function\n",
    "def train_step(\n",
    "    initial_state: tf.Tensor, \n",
    "    model: tf.keras.Model, \n",
    "    optimizer: tf.keras.optimizers.Optimizer, \n",
    "    gamma: float, \n",
    "    max_steps_per_episode: int) -> tf.Tensor:\n",
    "  \"\"\"Runs a model training step.\"\"\"\n",
    "\n",
    "  with tf.GradientTape() as tape:\n",
    "\n",
    "    # Run the model for one episode to collect training data\n",
    "    action_probs, values, rewards = run_episode(\n",
    "        initial_state, model, max_steps_per_episode) \n",
    "\n",
    "    # Calculate the expected returns\n",
    "    returns = get_expected_return(rewards, gamma)\n",
    "\n",
    "    # Convert training data to appropriate TF tensor shapes\n",
    "    action_probs, values, returns = [\n",
    "        tf.expand_dims(x, 1) for x in [action_probs, values, returns]] \n",
    "\n",
    "    # Calculate the loss values to update our network\n",
    "    loss = compute_loss(action_probs, values, returns)\n",
    "\n",
    "  # Compute the gradients from the loss\n",
    "  grads = tape.gradient(loss, model.trainable_variables)\n",
    "\n",
    "  # Apply the gradients to the model's parameters\n",
    "  optimizer.apply_gradients(zip(grads, model.trainable_variables))\n",
    "\n",
    "  episode_reward = tf.math.reduce_sum(rewards)\n",
    "\n",
    "  return episode_reward"
   ]
  },
  {
   "attachments": {},
   "cell_type": "markdown",
   "metadata": {
    "id": "HFvZiDoAflGK"
   },
   "source": [
    "### 5. Run the training loop\n",
    "\n",
    "Training is executed by running the training step until either the success criterion or maximum number of episodes is reached.  \n",
    "\n",
    "A running record of episode rewards is kept in a queue. Once 100 trials are reached, the oldest reward is removed at the left (tail) end of the queue and the newest one is added at the head (right). A running sum of the rewards is also maintained for computational efficiency.\n",
    "\n",
    "Depending on your runtime, training can finish in less than a minute."
   ]
  },
  {
   "cell_type": "code",
   "execution_count": 14,
   "metadata": {
    "execution": {
     "iopub.execute_input": "2022-12-20T03:08:09.279251Z",
     "iopub.status.busy": "2022-12-20T03:08:09.278458Z",
     "iopub.status.idle": "2022-12-20T03:10:29.539653Z",
     "shell.execute_reply": "2022-12-20T03:10:29.538571Z"
    },
    "id": "kbmBxnzLiUJx"
   },
   "outputs": [
    {
     "name": "stderr",
     "output_type": "stream",
     "text": [
      " 13%|█▎        | 1326/10000 [02:49<18:28,  7.83it/s, episode_reward=500, running_reward=476]"
     ]
    },
    {
     "name": "stdout",
     "output_type": "stream",
     "text": [
      "\n",
      "Solved at episode 1326: average reward: 475.96!\n",
      "CPU times: total: 3min 50s\n",
      "Wall time: 2min 49s\n"
     ]
    },
    {
     "name": "stderr",
     "output_type": "stream",
     "text": [
      "\n"
     ]
    }
   ],
   "source": [
    "%%time\n",
    "\n",
    "min_episodes_criterion = 100\n",
    "max_episodes = 10000\n",
    "max_steps_per_episode = 500\n",
    "\n",
    "# `CartPole-v1` is considered solved if average reward is >= 475 over 500 \n",
    "# consecutive trials\n",
    "reward_threshold = 475\n",
    "running_reward = 0\n",
    "\n",
    "# The discount factor for future rewards\n",
    "gamma = 0.99\n",
    "\n",
    "# Keep the last episodes reward\n",
    "episodes_reward: collections.deque = collections.deque(maxlen=min_episodes_criterion)\n",
    "\n",
    "t = tqdm.trange(max_episodes)\n",
    "for i in t:\n",
    "    initial_state, info = env.reset()\n",
    "    initial_state = tf.constant(initial_state, dtype=tf.float32)\n",
    "    episode_reward = int(train_step(\n",
    "        initial_state, model, optimizer, gamma, max_steps_per_episode))\n",
    "    \n",
    "    episodes_reward.append(episode_reward)\n",
    "    running_reward = statistics.mean(episodes_reward)\n",
    "  \n",
    "\n",
    "    t.set_postfix(\n",
    "        episode_reward=episode_reward, running_reward=running_reward)\n",
    "  \n",
    "    # Show the average episode reward every 10 episodes\n",
    "    if i % 10 == 0:\n",
    "      pass # print(f'Episode {i}: average reward: {avg_reward}')\n",
    "  \n",
    "    if running_reward > reward_threshold and i >= min_episodes_criterion:  \n",
    "        break\n",
    "\n",
    "print(f'\\nSolved at episode {i}: average reward: {running_reward:.2f}!')"
   ]
  },
  {
   "attachments": {},
   "cell_type": "markdown",
   "metadata": {
    "id": "ru8BEwS1EmAv"
   },
   "source": [
    "## Visualization\n",
    "\n",
    "After training, it would be good to visualize how the model performs in the environment. You can run the cells below to generate a GIF animation of one episode run of the model. Note that additional packages need to be installed for Gym to render the environment's images correctly in Colab."
   ]
  },
  {
   "cell_type": "code",
   "execution_count": 15,
   "metadata": {
    "execution": {
     "iopub.execute_input": "2022-12-20T03:10:29.544033Z",
     "iopub.status.busy": "2022-12-20T03:10:29.543720Z",
     "iopub.status.idle": "2022-12-20T03:10:32.797264Z",
     "shell.execute_reply": "2022-12-20T03:10:32.796292Z"
    },
    "id": "qbIMMkfmRHyC"
   },
   "outputs": [],
   "source": [
    "# Render an episode and save as a GIF file\n",
    "\n",
    "from IPython import display as ipythondisplay\n",
    "from PIL import Image\n",
    "\n",
    "render_env = gym.make(\"CartPole-v1\", render_mode='rgb_array')\n",
    "\n",
    "def render_episode(env: gym.Env, model: tf.keras.Model, max_steps: int): \n",
    "  state, info = env.reset()\n",
    "  state = tf.constant(state, dtype=tf.float32)\n",
    "  screen = env.render()\n",
    "  images = [Image.fromarray(screen)]\n",
    " \n",
    "  for i in range(1, max_steps + 1):\n",
    "    state = tf.expand_dims(state, 0)\n",
    "    action_probs, _ = model(state)\n",
    "    action = np.argmax(np.squeeze(action_probs))\n",
    "\n",
    "    state, reward, done, truncated, info = env.step(action)\n",
    "    state = tf.constant(state, dtype=tf.float32)\n",
    "\n",
    "    # Render screen every 10 steps\n",
    "    if i % 10 == 0:\n",
    "      screen = env.render()\n",
    "      images.append(Image.fromarray(screen))\n",
    "  \n",
    "    if done:\n",
    "      break\n",
    "  \n",
    "  return images\n",
    "\n",
    "\n",
    "# Save GIF image\n",
    "images = render_episode(render_env, model, max_steps_per_episode)\n",
    "image_file = 'cartpole-v1.gif'\n",
    "# loop=0: loop forever, duration=1: play each frame for 1ms\n",
    "images[0].save(\n",
    "    image_file, save_all=True, append_images=images[1:], loop=0, duration=1)"
   ]
  },
  {
   "cell_type": "code",
   "execution_count": 17,
   "metadata": {
    "execution": {
     "iopub.execute_input": "2022-12-20T03:10:32.801881Z",
     "iopub.status.busy": "2022-12-20T03:10:32.801609Z",
     "iopub.status.idle": "2022-12-20T03:10:32.880408Z",
     "shell.execute_reply": "2022-12-20T03:10:32.879601Z"
    },
    "id": "TLd720SejKmf"
   },
   "outputs": [
    {
     "data": {
      "text/html": [
       "<img src=\"data:image/gif;base64,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\"/>"
      ],
      "text/plain": [
       "<IPython.core.display.HTML object>"
      ]
     },
     "execution_count": 17,
     "metadata": {},
     "output_type": "execute_result"
    }
   ],
   "source": [
    "import tensorflow_docs.vis.embed as embed\n",
    "embed.embed_file(image_file)"
   ]
  },
  {
   "attachments": {},
   "cell_type": "markdown",
   "metadata": {
    "id": "lnq9Hzo1Po6X"
   },
   "source": [
    "## Next steps\n",
    "\n",
    "This tutorial demonstrated how to implement the Actor-Critic method using Tensorflow.\n",
    "\n",
    "As a next step, you could try training a model on a different environment in Gym. \n",
    "\n",
    "For additional information regarding Actor-Critic methods and the Cartpole-v0 problem, you may refer to the following resources:\n",
    "\n",
    "- [The Actor-Critic method](https://hal.inria.fr/hal-00840470/document)\n",
    "- [The Actor-Critic lecture (CAL)](https://www.youtube.com/watch?v=EKqxumCuAAY&list=PLkFD6_40KJIwhWJpGazJ9VSj9CFMkb79A&index=7&t=0s)\n",
    "- [Cart Pole learning control problem \\[Barto, et al. 1983\\]](http://www.derongliu.org/adp/adp-cdrom/Barto1983.pdf) \n",
    "\n",
    "For more reinforcement learning examples in TensorFlow, you can check the following resources:\n",
    "- [Reinforcement learning code examples (keras.io)](https://keras.io/examples/rl/)\n",
    "- [TF-Agents reinforcement learning library](https://www.tensorflow.org/agents)\n"
   ]
  },
  {
   "cell_type": "code",
   "execution_count": null,
   "metadata": {},
   "outputs": [],
   "source": [
    "import tensorflow_docs.vis.embed as embed\n",
    "embed.embed_file(image_file)"
   ]
  }
 ],
 "metadata": {
  "colab": {
   "collapsed_sections": [
    "_jQ1tEQCxwRx"
   ],
   "name": "actor_critic.ipynb",
   "toc_visible": true
  },
  "kernelspec": {
   "display_name": "Python 3",
   "name": "python3"
  },
  "language_info": {
   "codemirror_mode": {
    "name": "ipython",
    "version": 3
   },
   "file_extension": ".py",
   "mimetype": "text/x-python",
   "name": "python",
   "nbconvert_exporter": "python",
   "pygments_lexer": "ipython3",
   "version": "3.9.16"
  }
 },
 "nbformat": 4,
 "nbformat_minor": 0
}
